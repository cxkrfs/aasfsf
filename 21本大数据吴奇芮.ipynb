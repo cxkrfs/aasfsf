{
 "cells": [
  {
   "cell_type": "code",
   "execution_count": 1,
   "id": "5ccd2553-640f-4da1-8c16-3e5301156cf4",
   "metadata": {},
   "outputs": [],
   "source": [
    "import torch"
   ]
  },
  {
   "cell_type": "code",
   "execution_count": 2,
   "id": "13a68bd7-6007-4be8-a814-d5d7fd62563f",
   "metadata": {},
   "outputs": [
    {
     "name": "stdout",
     "output_type": "stream",
     "text": [
      "Ones Tensor:\n",
      "tensor([[1, 1],\n",
      "        [1, 1]])\n",
      "\n",
      "Ones Tensor:\n",
      "tensor([[0.2037, 0.4989],\n",
      "        [0.4134, 0.5806]])\n",
      "\n"
     ]
    }
   ],
   "source": [
    "import torch\n",
    "\n",
    "data=[[1,2],[3,4]]\n",
    "x_data = torch.tensor(data)\n",
    "x_data\n",
    "\n",
    "x_ones = torch.ones_like(x_data)\n",
    "print(f\"Ones Tensor:\\n{x_ones}\\n\")\n",
    "\n",
    "x_rand = torch.rand_like(x_data,dtype=torch.float)\n",
    "print(f\"Ones Tensor:\\n{x_rand}\\n\")"
   ]
  },
  {
   "cell_type": "code",
   "execution_count": 25,
   "id": "e3d71e3b-73a7-405f-aab0-3bf483da4e65",
   "metadata": {},
   "outputs": [
    {
     "name": "stdout",
     "output_type": "stream",
     "text": [
      "<class 'torch.Tensor'>\n"
     ]
    }
   ],
   "source": [
    "from PIL import Image\n",
    "from torchvision import transforms\n",
    "image_path = r'form_tensor.jpg'\n",
    "image = Image.open (image_path)\n",
    "transform = transforms.ToTensor ()\n",
    "tensor_image = transform (image)\n",
    "print (type (tensor_image))"
   ]
  },
  {
   "cell_type": "code",
   "execution_count": 26,
   "id": "85a57980-8611-4b85-ad47-18b6128cc09f",
   "metadata": {},
   "outputs": [],
   "source": [
    "import torch\n",
    "from torchvision import transforms\n",
    "tensor_image = torch. randn ( (3, 224, 224))\n",
    "transformed_image = transforms. ToPILImage () (tensor_image)\n",
    "save_path = r'form_tensor.jpg'\n",
    "\n",
    "transformed_image. save (save_path)"
   ]
  },
  {
   "cell_type": "code",
   "execution_count": null,
   "id": "ff99e09d-a807-4a91-a7e6-d028a03aa8a9",
   "metadata": {},
   "outputs": [],
   "source": []
  }
 ],
 "metadata": {
  "kernelspec": {
   "display_name": "Python 3 (ipykernel)",
   "language": "python",
   "name": "python3"
  },
  "language_info": {
   "codemirror_mode": {
    "name": "ipython",
    "version": 3
   },
   "file_extension": ".py",
   "mimetype": "text/x-python",
   "name": "python",
   "nbconvert_exporter": "python",
   "pygments_lexer": "ipython3",
   "version": "3.9.7"
  }
 },
 "nbformat": 4,
 "nbformat_minor": 5
}
