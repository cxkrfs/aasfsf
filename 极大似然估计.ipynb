{
 "cells": [
  {
   "cell_type": "code",
   "execution_count": 3,
   "id": "a170f9ab-5a94-4554-8437-56c9cf6f5ed2",
   "metadata": {},
   "outputs": [],
   "source": [
    "import numpy as np\n",
    "\n",
    "\n",
    "def likelihood(p, n_obs):\n",
    "    result = 1\n",
    "    for i in range(len(p)):\n",
    "        result *= (p[i] ** n_obs[i])\n",
    "    return result"
   ]
  },
  {
   "cell_type": "code",
   "execution_count": 4,
   "id": "09de2ec0-f337-4d77-a817-86afc47ff465",
   "metadata": {},
   "outputs": [],
   "source": [
    "def generate_observations(n_trials):\n",
    "    observations = np.random.randint(1, 7, size=n_trials)\n",
    "    n_obs = np.zeros(6)\n",
    "    for obs in observations:\n",
    "        n_obs[obs - 1] += 1\n",
    "    return n_obs"
   ]
  },
  {
   "cell_type": "code",
   "execution_count": 5,
   "id": "59a58699-48e6-40f5-8294-cbcaed2a2cd2",
   "metadata": {},
   "outputs": [],
   "source": [
    "def gradient_descent(n_obs, learning_rate=0.01, epochs=1000):\n",
    "    p = np.ones(6) / 6\n",
    "    eps = 1e-6  # 一个小的常数\n",
    "    for _ in range(epochs):\n",
    "        grad = np.zeros(6)\n",
    "        for i in range(6):\n",
    "            grad[i] = n_obs[i] / (p[i] + eps)\n",
    "        p -= learning_rate * grad\n",
    "        p /= np.sum(p)\n",
    "        p = np.maximum(p, eps)  # 确保概率值不小于eps\n",
    "    return p"
   ]
  },
  {
   "cell_type": "code",
   "execution_count": 7,
   "id": "7d283ac3-0dfb-4d52-9522-025530506e29",
   "metadata": {},
   "outputs": [],
   "source": [
    "def gradient_descent(n_obs, learning_rate=0.01, epochs=1000):\n",
    "    p = np.random.rand(6)\n",
    "    p /= np.sum(p)\n",
    "    eps = 1e-6\n",
    "    for _ in range(epochs):\n",
    "        grad = np.zeros(6)\n",
    "        for i in range(6):\n",
    "            grad[i] = n_obs[i] / (p[i] + eps)\n",
    "        p -= learning_rate * grad\n",
    "        p /= np.sum(p)\n",
    "        p = np.maximum(p, eps)\n",
    "    return p"
   ]
  },
  {
   "cell_type": "code",
   "execution_count": 9,
   "id": "ab98a476-9b66-4da3-a66e-42f6030fb954",
   "metadata": {},
   "outputs": [
    {
     "name": "stdout",
     "output_type": "stream",
     "text": [
      "Estimated probabilities: [1.93499518e-01 2.26377058e-01 1.00000000e-06 2.12970083e-01\n",
      " 1.80330457e-01 1.86822012e-01]\n"
     ]
    }
   ],
   "source": [
    "if __name__ == \"__main__\":\n",
    "    n_trials = 1000\n",
    "    n_obs = generate_observations(n_trials)\n",
    "    p_est = gradient_descent(n_obs)\n",
    "    print(\"Estimated probabilities:\", p_est)"
   ]
  },
  {
   "cell_type": "code",
   "execution_count": null,
   "id": "954f07e9-69a0-40c2-ab98-9ee18fbe64f8",
   "metadata": {},
   "outputs": [],
   "source": []
  }
 ],
 "metadata": {
  "kernelspec": {
   "display_name": "Python 3 (ipykernel)",
   "language": "python",
   "name": "python3"
  },
  "language_info": {
   "codemirror_mode": {
    "name": "ipython",
    "version": 3
   },
   "file_extension": ".py",
   "mimetype": "text/x-python",
   "name": "python",
   "nbconvert_exporter": "python",
   "pygments_lexer": "ipython3",
   "version": "3.9.7"
  }
 },
 "nbformat": 4,
 "nbformat_minor": 5
}
