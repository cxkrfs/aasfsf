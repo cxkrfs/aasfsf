{
 "cells": [
  {
   "cell_type": "code",
   "execution_count": 1,
   "id": "9847f534-d6b4-43cb-ba12-766dad63653d",
   "metadata": {},
   "outputs": [],
   "source": [
    "import numpy as np\n",
    "import matplotlib.pyplot as plt\n",
    "from mpl_toolkits.mplot3d import Axes3D"
   ]
  },
  {
   "cell_type": "code",
   "execution_count": 2,
   "id": "f4ed2b5a-943a-46d3-9c79-b888358e00ba",
   "metadata": {},
   "outputs": [],
   "source": [
    "def f(x, y):\n",
    "    return (x - 1)**2 + (y + 2)**2 + (x + 3)**2 + (y - 4)**2"
   ]
  },
  {
   "cell_type": "code",
   "execution_count": 3,
   "id": "52a664e7-8aa5-4868-991f-348ed32d538f",
   "metadata": {},
   "outputs": [],
   "source": [
    "def grad_f(x, y):\n",
    "    df_dx = 2 * (x - 1) + 2 * (x + 3)\n",
    "    df_dy = 2 * (y + 2) + 2 * (y - 4)\n",
    "    return np.array([df_dx, df_dy])"
   ]
  },
  {
   "cell_type": "code",
   "execution_count": 4,
   "id": "65aed7df-1982-4f70-a687-e94e04c1a547",
   "metadata": {},
   "outputs": [],
   "source": [
    "def gradient_descent(f, grad_f, x0, learning_rate=0.01, max_iter=1000, tol=1e-6):\n",
    "    x = x0\n",
    "    history = [x]\n",
    "    \n",
    "    for i in range(max_iter):\n",
    "        gradient = grad_f(x[0], x[1])\n",
    "        x = x - learning_rate * gradient\n",
    "        history.append(x)\n",
    "        \n",
    "        if np.linalg.norm(gradient) < tol:\n",
    "            break\n",
    "    \n",
    "    return x, history"
   ]
  },
  {
   "cell_type": "code",
   "execution_count": null,
   "id": "9e48605a-253f-4fdf-9875-4aeff5f1e4e4",
   "metadata": {},
   "outputs": [],
   "source": []
  }
 ],
 "metadata": {
  "kernelspec": {
   "display_name": "Python 3 (ipykernel)",
   "language": "python",
   "name": "python3"
  },
  "language_info": {
   "codemirror_mode": {
    "name": "ipython",
    "version": 3
   },
   "file_extension": ".py",
   "mimetype": "text/x-python",
   "name": "python",
   "nbconvert_exporter": "python",
   "pygments_lexer": "ipython3",
   "version": "3.9.7"
  }
 },
 "nbformat": 4,
 "nbformat_minor": 5
}
